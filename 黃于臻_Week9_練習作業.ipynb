{
  "nbformat": 4,
  "nbformat_minor": 0,
  "metadata": {
    "colab": {
      "name": "黃于臻-Week9-練習作業.ipynb",
      "provenance": [],
      "authorship_tag": "ABX9TyO/hcsas/S87GIGj0QhxmnZ",
      "include_colab_link": true
    },
    "kernelspec": {
      "name": "python3",
      "display_name": "Python 3"
    },
    "language_info": {
      "name": "python"
    }
  },
  "cells": [
    {
      "cell_type": "markdown",
      "metadata": {
        "id": "view-in-github",
        "colab_type": "text"
      },
      "source": [
        "<a href=\"https://colab.research.google.com/github/A109010160/Computational-Thinking-and-Program-Design/blob/main/%E9%BB%83%E4%BA%8E%E8%87%BB_Week9_%E7%B7%B4%E7%BF%92%E4%BD%9C%E6%A5%AD.ipynb\" target=\"_parent\"><img src=\"https://colab.research.google.com/assets/colab-badge.svg\" alt=\"Open In Colab\"/></a>"
      ]
    },
    {
      "cell_type": "markdown",
      "metadata": {
        "id": "cCzB2ZxPjl4K"
      },
      "source": [
        "# 課後練習"
      ]
    },
    {
      "cell_type": "markdown",
      "metadata": {
        "id": "LeHqF9mTKtNR"
      },
      "source": [
        "**練習12：格式化輸出，明星檔案**\n",
        "\n",
        "用Python語言編制一個明星檔案，帶你認識創造Python程式語言的大神！"
      ]
    },
    {
      "cell_type": "code",
      "metadata": {
        "id": "vLIAmZDrK2hx"
      },
      "source": [
        ""
      ],
      "execution_count": null,
      "outputs": []
    },
    {
      "cell_type": "markdown",
      "metadata": {
        "id": "amUq9m_qK5TM"
      },
      "source": [
        "**練習15：長跑健將**\n",
        "\n",
        "梁小星很喜歡運動，每天都堅持跑步5公里，為此他還買了一個手環。觀看手環可以記錄步數、距離、速度、時間等數據。梁小星想用Python寫一個統計時間的程式，你可以幫幫他嗎？(06'32, 07'21, 05,51, 07'03, 05'48)"
      ]
    },
    {
      "cell_type": "code",
      "metadata": {
        "colab": {
          "base_uri": "https://localhost:8080/"
        },
        "id": "-zH6NFskK_xq",
        "outputId": "95c5a28c-f8fb-45d4-931a-9e6e606189f4"
      },
      "source": [
        "sum=6*60+32\n",
        "sum=sum+7*60+21\n",
        "sum=sum+5*60+51\n",
        "sum=sum+7*60+3\n",
        "sum=sum+5*60+48\n",
        "int(sum/60)\n",
        "print (sum//60,\"分\",sum%60,\"秒\")"
      ],
      "execution_count": 20,
      "outputs": [
        {
          "output_type": "stream",
          "text": [
            "32 分 35 秒\n"
          ],
          "name": "stdout"
        }
      ]
    }
  ]
}