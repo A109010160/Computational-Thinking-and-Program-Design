{
  "nbformat": 4,
  "nbformat_minor": 0,
  "metadata": {
    "colab": {
      "name": "黃于臻-Week8-練習作業.ipynb",
      "provenance": [],
      "authorship_tag": "ABX9TyNadygsfR+PhjzoHvN9MOqu",
      "include_colab_link": true
    },
    "kernelspec": {
      "name": "python3",
      "display_name": "Python 3"
    },
    "language_info": {
      "name": "python"
    }
  },
  "cells": [
    {
      "cell_type": "markdown",
      "metadata": {
        "id": "view-in-github",
        "colab_type": "text"
      },
      "source": [
        "<a href=\"https://colab.research.google.com/github/A109010160/Computational-Thinking-and-Program-Design/blob/main/%E9%BB%83%E4%BA%8E%E8%87%BB_Week8_%E7%B7%B4%E7%BF%92%E4%BD%9C%E6%A5%AD.ipynb\" target=\"_parent\"><img src=\"https://colab.research.google.com/assets/colab-badge.svg\" alt=\"Open In Colab\"/></a>"
      ]
    },
    {
      "cell_type": "markdown",
      "metadata": {
        "id": "cCzB2ZxPjl4K"
      },
      "source": [
        "# 課後練習"
      ]
    },
    {
      "cell_type": "markdown",
      "metadata": {
        "id": "0uisyZeuUSxU"
      },
      "source": [
        "**練習5: 整理圖書**\n",
        "\n",
        "輸入兩個正整數a = 13和b = 11，將換a和b的值，即a = 11和b = 13。\n",
        "\n",
        "～梁小星在家中整理書櫃，原來第一層放11本爸爸的書，第二層放13本自己的書，他想將兩層圖書的位置對調，請問該如何做呢？"
      ]
    },
    {
      "cell_type": "code",
      "metadata": {
        "colab": {
          "base_uri": "https://localhost:8080/"
        },
        "id": "qSCOdVZEU5Ah",
        "outputId": "ba622869-aed6-431e-a8b8-001d4db8f523"
      },
      "source": [
        "a=13\n",
        "b=11\n",
        "c=a\n",
        "a=b\n",
        "b=c\n",
        "print(\"a =\",a)\n",
        "print(\"b =\",b)"
      ],
      "execution_count": 7,
      "outputs": [
        {
          "output_type": "stream",
          "text": [
            "a = 11\n",
            "b = 13\n"
          ],
          "name": "stdout"
        }
      ]
    },
    {
      "cell_type": "markdown",
      "metadata": {
        "id": "oqSvDJgQUSxW"
      },
      "source": [
        "**練習11: 分糖果遊戲**\n",
        "\n",
        "在糖果屋中，有6位小朋友在玩分糖果遊戲。這6位小朋友的編號為1, 2, 3, 4, 5, 6，並按照自己的編號坐在一張圓桌旁。它們身上都有不同的糖果，從1號小朋友開始，將自己的糖果均分成3份，如果有多的就立刻先吃掉，然後自己留1份，其餘2份給身邊的小朋友。接著2號、3號、4號、5號、6號同學這樣做。問一輪後，每位小朋友手上有多少糖果。"
      ]
    },
    {
      "cell_type": "code",
      "metadata": {
        "id": "OtnzK5D9USxW",
        "colab": {
          "base_uri": "https://localhost:8080/"
        },
        "outputId": "2c5ff06a-1205-4a4e-937e-19f62c46935d"
      },
      "source": [
        " a=b=c=d=e=f=3\n",
        "\n",
        "\n",
        " a = a//3; b = b + a;f = f + a\n",
        " print(a,b,c,d,e,f)\n",
        " b = b//3; a = a + b;c = c + b\n",
        " print(a,b,c,d,e,f)\n",
        " c = c//3; b = b + c;d = d + c\n",
        " print(a,b,c,d,e,f)\n",
        " d = d//3; c = c + d;e = f + a\n",
        " print(a,b,c,d,e,f)\n",
        " e = e//3; d = d + e;f = f + a\n",
        " print(a,b,c,d,e,f)\n",
        " f = f//3; e = e + f;a = f + a\n",
        " print(a,b,c,d,e,f)"
      ],
      "execution_count": 9,
      "outputs": [
        {
          "output_type": "stream",
          "text": [
            "1 4 3 3 3 4\n",
            "2 1 4 3 3 4\n",
            "2 2 1 4 3 4\n",
            "2 2 2 1 6 4\n",
            "2 2 2 3 2 6\n",
            "4 2 2 3 4 2\n"
          ],
          "name": "stdout"
        }
      ]
    }
  ]
}