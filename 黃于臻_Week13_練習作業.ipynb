{
  "nbformat": 4,
  "nbformat_minor": 0,
  "metadata": {
    "kernelspec": {
      "display_name": "Python 3",
      "language": "python",
      "name": "python3"
    },
    "language_info": {
      "codemirror_mode": {
        "name": "ipython",
        "version": 3
      },
      "file_extension": ".py",
      "mimetype": "text/x-python",
      "name": "python",
      "nbconvert_exporter": "python",
      "pygments_lexer": "ipython3",
      "version": "3.8.5"
    },
    "colab": {
      "name": "黃于臻_Week13_練習作業.ipynb",
      "provenance": [],
      "collapsed_sections": [],
      "include_colab_link": true
    }
  },
  "cells": [
    {
      "cell_type": "markdown",
      "metadata": {
        "id": "view-in-github",
        "colab_type": "text"
      },
      "source": [
        "<a href=\"https://colab.research.google.com/github/A109010160/Computational-Thinking-and-Program-Design/blob/main/%E9%BB%83%E4%BA%8E%E8%87%BB_Week13_%E7%B7%B4%E7%BF%92%E4%BD%9C%E6%A5%AD.ipynb\" target=\"_parent\"><img src=\"https://colab.research.google.com/assets/colab-badge.svg\" alt=\"Open In Colab\"/></a>"
      ]
    },
    {
      "cell_type": "markdown",
      "metadata": {
        "id": "pVz8eAMWCqKZ"
      },
      "source": [
        "**練習5   體溫與發燒**\n",
        "\n",
        "設計程式根據體溫判斷是否發燒，由使用者輸入體溫，程式判斷是否發燒，假設體溫小於36度，顯示「體溫過低」，體溫大於等於36度小於38度，顯示「體溫正常」，否則若體溫大於等於38度小於39度，顯示「體溫有點燒」，否則體溫大於等於39度，顯示「體溫很燒」。\n",
        "\n",
        "輸入體溫「36.5」，輸出為「體溫正常」。\n",
        "\n",
        "～程式執行結果如下。\n",
        "\n",
        "請輸入體溫？36.5\n",
        "\n",
        "體溫正常"
      ]
    },
    {
      "cell_type": "code",
      "metadata": {
        "colab": {
          "base_uri": "https://localhost:8080/"
        },
        "id": "-BrbQdFoCqKZ",
        "outputId": "52b5d3d2-c75a-4bd3-cdda-e10050e371be"
      },
      "source": [
        "num = float(input(\"請輸入體溫: \"))\n",
        "if num < 36:\n",
        "    print(\"體溫過低\")\n",
        "elif num >= 39:\n",
        "    print(\"體溫很燒.\")\n",
        "elif num > 38:\n",
        "    print(\"體溫過高.\")\n",
        "elif num >= 36:\n",
        "    print(\"體溫正常.\")\n",
        "\n",
        "\n"
      ],
      "execution_count": null,
      "outputs": [
        {
          "output_type": "stream",
          "text": [
            "請輸入體溫: 35.6\n",
            "體溫過低\n"
          ],
          "name": "stdout"
        }
      ]
    },
    {
      "cell_type": "markdown",
      "metadata": {
        "id": "HH_Ef4LfCqKa"
      },
      "source": [
        "**練習6  閏年判斷**\n",
        "\n",
        "設計程式允許輸入西元幾年，請求出該年是否是閏年，閏年表示該年多一天，若為4的倍數稱做閏年，但若為100的倍數就不為閏年，且若為400倍數又是閏年。(四年一潤、百年不潤、四百年再潤)\n",
        "\n",
        "輸入年份「2012」，輸出為「2012是閏年」。\n",
        "\n",
        "～程式執行結果如下。\n",
        "\n",
        "請輸入年份？2012\n",
        "\n",
        "2012 是閏年"
      ]
    },
    {
      "cell_type": "code",
      "metadata": {
        "colab": {
          "base_uri": "https://localhost:8080/"
        },
        "id": "tvCM3hLNCqKa",
        "outputId": "34964973-8403-4995-cfbd-7fe5937d8984"
      },
      "source": [
        "year = int(input(\"請輸入年份: \"))\n",
        "if year%400==0:\n",
        "    print(year,\"是閏年\")\n",
        "elif year%100==0:\n",
        "  print(year,\"不是閏年\")\n",
        "elif year%4==0:\n",
        "    print(year,\"是閏年\")\n",
        "else :\n",
        "    print(year,\"不是閏年\")\n"
      ],
      "execution_count": null,
      "outputs": [
        {
          "output_type": "stream",
          "text": [
            "請輸入年份: 2012\n",
            "2012 是閏年\n"
          ],
          "name": "stdout"
        }
      ]
    },
    {
      "cell_type": "markdown",
      "metadata": {
        "id": "bGIhCyFYCqKa"
      },
      "source": [
        "**練習12：計程車計費**\n",
        "\n",
        "某城市計程車計費3公里以內6元，超過3公里不足10公里、每公里1.8元，超過10公里則超過部分加收50%。此外停車等候每3分鐘收1元，請用Python寫出車費是多少。"
      ]
    },
    {
      "cell_type": "code",
      "metadata": {
        "colab": {
          "base_uri": "https://localhost:8080/"
        },
        "id": "myd_9Dv3CqKb",
        "outputId": "6664caa9-e6b1-48b9-dba1-970fb6887d3b"
      },
      "source": [
        "\n",
        "km = int(input(\"請輸入公里數: \"))\n",
        "time = int(input(\"請輸入分鐘數: \"))\n",
        "if km <= 3:\n",
        "    print(time//3+6,\"6元\")\n",
        "elif km < 10:\n",
        "    print(km*1.8+time//3,\"元\")\n",
        "elif km >= 10:\n",
        "    print(km*1.8*1.5+time//3,\"元\")\n",
        "elif km > 3:\n",
        "    print(km*1.8+time//3,\"元\")\n",
        "\n"
      ],
      "execution_count": null,
      "outputs": [
        {
          "output_type": "stream",
          "text": [
            "請輸入公里數: 20\n",
            "請輸入分鐘數: 6\n",
            "56.0 元\n"
          ],
          "name": "stdout"
        }
      ]
    }
  ]
}