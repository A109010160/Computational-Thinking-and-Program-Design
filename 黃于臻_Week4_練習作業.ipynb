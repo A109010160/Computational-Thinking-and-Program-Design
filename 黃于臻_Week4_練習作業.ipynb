{
  "nbformat": 4,
  "nbformat_minor": 0,
  "metadata": {
    "colab": {
      "name": "黃于臻-Week4-練習作業.ipynb",
      "provenance": [],
      "authorship_tag": "ABX9TyNTNunU3YuZsCDWgs1aYq3w",
      "include_colab_link": true
    },
    "kernelspec": {
      "name": "python3",
      "display_name": "Python 3"
    }
  },
  "cells": [
    {
      "cell_type": "markdown",
      "metadata": {
        "id": "view-in-github",
        "colab_type": "text"
      },
      "source": [
        "<a href=\"https://colab.research.google.com/github/A109010160/Computational-Thinking-and-Program-Design/blob/main/%E9%BB%83%E4%BA%8E%E8%87%BB_Week4_%E7%B7%B4%E7%BF%92%E4%BD%9C%E6%A5%AD.ipynb\" target=\"_parent\"><img src=\"https://colab.research.google.com/assets/colab-badge.svg\" alt=\"Open In Colab\"/></a>"
      ]
    },
    {
      "cell_type": "markdown",
      "metadata": {
        "id": "3QR5vgcq7-uc"
      },
      "source": [
        "#隨堂練習"
      ]
    },
    {
      "cell_type": "markdown",
      "metadata": {
        "id": "RSSp1Pb9Xh2E"
      },
      "source": [
        "#課後練習"
      ]
    },
    {
      "cell_type": "markdown",
      "metadata": {
        "id": "lr1QA7QuZv_Z"
      },
      "source": [
        "從一則新聞報導，提出你對新聞系學生為什麼要學「運算思維與程式設計」的見解。"
      ]
    },
    {
      "cell_type": "markdown",
      "metadata": {
        "id": "pu_OAksKAoNx"
      },
      "source": [
        "https://www.businessweekly.com.tw/business/blog/2053"
      ]
    },
    {
      "cell_type": "markdown",
      "metadata": {
        "id": "uGEEsGNb9Ju1"
      },
      "source": [
        "程式語言是未來的趨勢，它不只是一個實質的技能，同時也能教導我們如何解決問題。我相信學好程式語言對我有益無害。"
      ]
    },
    {
      "cell_type": "code",
      "metadata": {
        "id": "iqTRZ8-09jrt"
      },
      "source": [
        ""
      ],
      "execution_count": null,
      "outputs": []
    }
  ]
}